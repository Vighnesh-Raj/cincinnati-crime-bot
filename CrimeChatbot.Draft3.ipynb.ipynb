{
  "cells": [
    {
      "cell_type": "code",
      "execution_count": 1,
      "id": "0c56ba28",
      "metadata": {
        "colab": {
          "base_uri": "https://localhost:8080/"
        },
        "id": "0c56ba28",
        "outputId": "54b6e90e-15ce-431d-d5d4-4b977fa8b29a"
      },
      "outputs": [
        {
          "output_type": "stream",
          "name": "stdout",
          "text": [
            "\u001b[2K   \u001b[90m━━━━━━━━━━━━━━━━━━━━━━━━━━━━━━━━━━━━━━━━\u001b[0m \u001b[32m28.2/28.2 MB\u001b[0m \u001b[31m8.7 MB/s\u001b[0m eta \u001b[36m0:00:00\u001b[0m\n",
            "\u001b[2K   \u001b[90m━━━━━━━━━━━━━━━━━━━━━━━━━━━━━━━━━━━━━━━━\u001b[0m \u001b[32m6.1/6.1 MB\u001b[0m \u001b[31m10.1 MB/s\u001b[0m eta \u001b[36m0:00:00\u001b[0m\n",
            "\u001b[2K   \u001b[90m━━━━━━━━━━━━━━━━━━━━━━━━━━━━━━━━━━━━━━━━\u001b[0m \u001b[32m231.9/231.9 kB\u001b[0m \u001b[31m5.3 MB/s\u001b[0m eta \u001b[36m0:00:00\u001b[0m\n",
            "\u001b[2K   \u001b[90m━━━━━━━━━━━━━━━━━━━━━━━━━━━━━━━━━━━━━━━━\u001b[0m \u001b[32m147.8/147.8 kB\u001b[0m \u001b[31m3.8 MB/s\u001b[0m eta \u001b[36m0:00:00\u001b[0m\n",
            "\u001b[2K   \u001b[90m━━━━━━━━━━━━━━━━━━━━━━━━━━━━━━━━━━━━━━━━\u001b[0m \u001b[32m114.9/114.9 kB\u001b[0m \u001b[31m2.2 MB/s\u001b[0m eta \u001b[36m0:00:00\u001b[0m\n",
            "\u001b[2K   \u001b[90m━━━━━━━━━━━━━━━━━━━━━━━━━━━━━━━━━━━━━━━━\u001b[0m \u001b[32m85.0/85.0 kB\u001b[0m \u001b[31m4.1 MB/s\u001b[0m eta \u001b[36m0:00:00\u001b[0m\n",
            "\u001b[2K   \u001b[90m━━━━━━━━━━━━━━━━━━━━━━━━━━━━━━━━━━━━━━━━\u001b[0m \u001b[32m692.3/692.3 kB\u001b[0m \u001b[31m17.0 MB/s\u001b[0m eta \u001b[36m0:00:00\u001b[0m\n",
            "\u001b[2K   \u001b[90m━━━━━━━━━━━━━━━━━━━━━━━━━━━━━━━━━━━━━━━━\u001b[0m \u001b[32m95.2/95.2 kB\u001b[0m \u001b[31m3.9 MB/s\u001b[0m eta \u001b[36m0:00:00\u001b[0m\n",
            "\u001b[2K   \u001b[90m━━━━━━━━━━━━━━━━━━━━━━━━━━━━━━━━━━━━━━━━\u001b[0m \u001b[32m203.4/203.4 kB\u001b[0m \u001b[31m7.8 MB/s\u001b[0m eta \u001b[36m0:00:00\u001b[0m\n",
            "\u001b[2K   \u001b[90m━━━━━━━━━━━━━━━━━━━━━━━━━━━━━━━━━━━━━━━━\u001b[0m \u001b[32m1.6/1.6 MB\u001b[0m \u001b[31m25.1 MB/s\u001b[0m eta \u001b[36m0:00:00\u001b[0m\n",
            "\u001b[2K   \u001b[90m━━━━━━━━━━━━━━━━━━━━━━━━━━━━━━━━━━━━━━━━\u001b[0m \u001b[32m62.4/62.4 kB\u001b[0m \u001b[31m2.9 MB/s\u001b[0m eta \u001b[36m0:00:00\u001b[0m\n",
            "\u001b[2K   \u001b[90m━━━━━━━━━━━━━━━━━━━━━━━━━━━━━━━━━━━━━━━━\u001b[0m \u001b[32m72.0/72.0 kB\u001b[0m \u001b[31m3.4 MB/s\u001b[0m eta \u001b[36m0:00:00\u001b[0m\n",
            "\u001b[?25h"
          ]
        }
      ],
      "source": [
        "!pip install mlflow ipywidgets transformers huggingface_hub --quiet\n",
        "from google.colab import output\n",
        "output.enable_custom_widget_manager()\n"
      ]
    },
    {
      "cell_type": "code",
      "execution_count": 4,
      "id": "be6691da",
      "metadata": {
        "colab": {
          "base_uri": "https://localhost:8080/",
          "height": 208,
          "referenced_widgets": [
            "b38c2131fa4942489e352e4444a556e3",
            "09c8ee68139843d2b48ad8a434c5fe92",
            "80af0c0f7c97411597b69e2be61187b7",
            "bdc64b543b054c5ca3edb83f080f54e9",
            "ed003e85b91047d7bfb1de3538b2b815"
          ]
        },
        "id": "be6691da",
        "outputId": "b16f3646-1c27-47b1-d646-f82f109a3914"
      },
      "outputs": [
        {
          "output_type": "stream",
          "name": "stdout",
          "text": [
            "Loading dataset and model...\n",
            "Columns in dataset: ['create_time_incident', 'incident_type_desc', 'event_number', 'sna_neighborhood', 'priority']\n"
          ]
        },
        {
          "output_type": "stream",
          "name": "stderr",
          "text": [
            "Device set to use cpu\n"
          ]
        },
        {
          "output_type": "stream",
          "name": "stdout",
          "text": [
            "\n",
            "✅ Chatbot is ready! Ask your question below:\n"
          ]
        },
        {
          "output_type": "display_data",
          "data": {
            "text/plain": [
              "Text(value='', description='Question:', layout=Layout(width='100%'), placeholder='Ask a question about crime i…"
            ],
            "application/vnd.jupyter.widget-view+json": {
              "version_major": 2,
              "version_minor": 0,
              "model_id": "b38c2131fa4942489e352e4444a556e3"
            }
          },
          "metadata": {
            "application/vnd.jupyter.widget-view+json": {
              "colab": {
                "custom_widget_manager": {
                  "url": "https://ssl.gstatic.com/colaboratory-static/widgets/colab-cdn-widget-manager/2b70e893a8ba7c0f/manager.min.js"
                }
              }
            }
          }
        },
        {
          "output_type": "display_data",
          "data": {
            "text/plain": [
              "Output()"
            ],
            "application/vnd.jupyter.widget-view+json": {
              "version_major": 2,
              "version_minor": 0,
              "model_id": "bdc64b543b054c5ca3edb83f080f54e9"
            }
          },
          "metadata": {
            "application/vnd.jupyter.widget-view+json": {
              "colab": {
                "custom_widget_manager": {
                  "url": "https://ssl.gstatic.com/colaboratory-static/widgets/colab-cdn-widget-manager/2b70e893a8ba7c0f/manager.min.js"
                }
              }
            }
          }
        }
      ],
      "source": [
        "\n",
        "import pandas as pd\n",
        "import time\n",
        "import mlflow\n",
        "import calendar\n",
        "import re\n",
        "from transformers import pipeline\n",
        "from huggingface_hub import hf_hub_download\n",
        "import ipywidgets as widgets\n",
        "from IPython.display import display\n",
        "import warnings\n",
        "warnings.simplefilter(action='ignore', category=pd.errors.DtypeWarning)\n",
        "\n",
        "# Set MLflow remote URI\n",
        "mlflow.set_tracking_uri(\"http://3.145.180.106:5000\")\n",
        "mlflow.set_experiment(\"Cincinnati Crime Chatbot\")\n",
        "\n",
        "def load_crime_data():\n",
        "    csv_path = hf_hub_download(\n",
        "        repo_id=\"mlsystemsg1/cincinnati-crime-data\",\n",
        "        repo_type=\"dataset\",\n",
        "        filename=\"calls_for_service_latest.csv\"\n",
        "    )\n",
        "    df = pd.read_csv(csv_path, low_memory=False)\n",
        "    df.columns = [col.lower() for col in df.columns]\n",
        "    keep_cols = ['create_time_incident', 'incident_type_desc', 'event_number', 'sna_neighborhood', 'priority']\n",
        "    df = df[keep_cols]\n",
        "    df.dropna(subset=['sna_neighborhood'], inplace=True)\n",
        "    df['create_time_incident'] = pd.to_datetime(df['create_time_incident'], errors='coerce')\n",
        "    return df\n",
        "\n",
        "def get_relevant_rows(question, df):\n",
        "    q = question.lower()\n",
        "    filtered = df.copy()\n",
        "\n",
        "    # Neighborhood match\n",
        "    for hood in df['sna_neighborhood'].dropna().unique():\n",
        "        if hood.lower() in q:\n",
        "            filtered = filtered[filtered['sna_neighborhood'].str.lower() == hood.lower()]\n",
        "            break\n",
        "\n",
        "    # Offense match\n",
        "    for offense in df['incident_type_desc'].dropna().unique():\n",
        "        if offense.lower() in q:\n",
        "            filtered = filtered[filtered['incident_type_desc'].str.lower() == offense.lower()]\n",
        "            break\n",
        "\n",
        "    # Exact date (YYYY-MM-DD)\n",
        "    date_match = re.search(r\"(20\\\\d{2})[-/](\\\\d{1,2})[-/](\\\\d{1,2})\", q)\n",
        "    if date_match:\n",
        "        y, m, d = map(int, date_match.groups())\n",
        "        filtered = filtered[filtered['create_time_incident'].dt.date == pd.Timestamp(y, m, d).date()]\n",
        "        return filtered\n",
        "\n",
        "    # Month match\n",
        "    months = {month.lower(): i for i, month in enumerate(calendar.month_name) if month}\n",
        "    for name, num in months.items():\n",
        "        if name in q:\n",
        "            filtered = filtered[filtered['create_time_incident'].dt.month == num]\n",
        "            break\n",
        "\n",
        "    # Year match\n",
        "    year_match = re.search(r\"(20\\\\d{2})\", q)\n",
        "    if year_match:\n",
        "        filtered = filtered[filtered['create_time_incident'].dt.year == int(year_match.group(1))]\n",
        "\n",
        "    # Sort if asking for most recent/latest offense\n",
        "    if any(x in q for x in [\"latest\", \"most recent\", \"last offense\", \"recent\"]):\n",
        "        filtered = filtered.sort_values(by='create_time_incident', ascending=False)\n",
        "\n",
        "    return filtered\n",
        "\n",
        "\n",
        "def generate_summary(question, df):\n",
        "    if df.empty:\n",
        "        return \"No matching records found.\"\n",
        "    if any(word in question.lower() for word in [\"how many\", \"count\", \"number of\"]):\n",
        "        return f\"There were {len(df)} incidents matching your query.\"\n",
        "    examples = []\n",
        "    for _, row in df.head(10).iterrows():\n",
        "        date = row['create_time_incident']\n",
        "        offense = row['incident_type_desc']\n",
        "        hood = row['sna_neighborhood']\n",
        "        incident = row['event_number']\n",
        "        priority = row.get('priority', 'N/A')\n",
        "        examples.append(f\"On {date.date()}, a {offense} (Priority {priority}) occurred in {hood} (Incident #{incident}).\")\n",
        "    return \"\\n\".join(examples)\n",
        "\n",
        "def answer_with_llm(question, data_rows, model, model_name=\"google/flan-t5-small\", prompt_version=\"v5\"):\n",
        "    if data_rows.empty:\n",
        "        return \"Sorry, I couldn't find any data matching that question.\"\n",
        "    context = generate_summary(question, data_rows)\n",
        "    prompt = f\"\"\"\n",
        "You are a helpful assistant analyzing Cincinnati crime data.\n",
        "\n",
        "Here are some relevant data points:\n",
        "{context}\n",
        "\n",
        "Now answer this question based on the above:\n",
        "{question}\n",
        "    \"\"\".strip()\n",
        "    start_time = time.time()\n",
        "    with mlflow.start_run():\n",
        "        mlflow.log_param(\"model_name\", model_name)\n",
        "        mlflow.log_param(\"question\", question)\n",
        "        mlflow.log_param(\"num_rows_context\", len(data_rows))\n",
        "        mlflow.log_param(\"prompt_version\", prompt_version)\n",
        "        mlflow.log_text(prompt, \"prompt.txt\")\n",
        "        result = model(prompt, max_new_tokens=150)[0]['generated_text']\n",
        "        answer = result.strip()\n",
        "        latency = time.time() - start_time\n",
        "        mlflow.log_text(answer, \"answer.txt\")\n",
        "        mlflow.log_metric(\"response_length\", len(answer))\n",
        "        mlflow.log_metric(\"latency_sec\", latency)\n",
        "        mlflow.log_metric(\"match_count\", len(data_rows))\n",
        "        return answer\n",
        "\n",
        "def run_single_chatbot_turn(df, model, question):\n",
        "    if question.lower() in ['exit', 'quit']:\n",
        "        return \"Goodbye!\"\n",
        "    rows = get_relevant_rows(question, df)\n",
        "    return answer_with_llm(question, rows, model)\n",
        "\n",
        "def ask_question_with_widget(df, model):\n",
        "    input_box = widgets.Text(\n",
        "        placeholder='Ask a question about crime in Cincinnati...',\n",
        "        description='Question:',\n",
        "        layout=widgets.Layout(width='100%')\n",
        "    )\n",
        "    output = widgets.Output()\n",
        "    def on_submit(change):\n",
        "        output.clear_output()\n",
        "        question = change['new']\n",
        "        with output:\n",
        "            print(\"Bot:\", run_single_chatbot_turn(df, model, question))\n",
        "    input_box.observe(on_submit, names='value')\n",
        "    display(input_box, output)\n",
        "\n",
        "# Launch everything\n",
        "print(\"Loading dataset and model...\")\n",
        "df = load_crime_data()\n",
        "print(\"Columns in dataset:\", df.columns.tolist())\n",
        "llm_model = pipeline(\"text2text-generation\", model=\"google/flan-t5-small\")\n",
        "print(\"\\n✅ Chatbot is ready! Ask your question below:\")\n",
        "ask_question_with_widget(df, llm_model)\n"
      ]
    },
    {
      "cell_type": "code",
      "source": [
        "print(\"Most recent incident date in dataset:\")\n",
        "print(df['create_time_incident'].max())\n",
        "\n",
        "print(\"\\nOldest incident date:\")\n",
        "print(df['create_time_incident'].min())\n",
        "\n",
        "print(\"\\nNumber of missing date entries:\")\n",
        "print(df['create_time_incident'].isna().sum())\n",
        "\n"
      ],
      "metadata": {
        "colab": {
          "base_uri": "https://localhost:8080/"
        },
        "id": "-oI0MRAG5pJ-",
        "outputId": "928c5914-6698-411d-c071-53e305cf899a"
      },
      "id": "-oI0MRAG5pJ-",
      "execution_count": 6,
      "outputs": [
        {
          "output_type": "stream",
          "name": "stdout",
          "text": [
            "Most recent incident date in dataset:\n",
            "2021-09-20 00:44:18\n",
            "\n",
            "Oldest incident date:\n",
            "2014-09-30 23:52:08\n",
            "\n",
            "Number of missing date entries:\n",
            "130\n"
          ]
        }
      ]
    },
    {
      "cell_type": "code",
      "source": [],
      "metadata": {
        "id": "TDQ3bthz5qO8"
      },
      "id": "TDQ3bthz5qO8",
      "execution_count": null,
      "outputs": []
    }
  ],
  "metadata": {
    "colab": {
      "provenance": []
    },
    "language_info": {
      "name": "python"
    },
    "kernelspec": {
      "name": "python3",
      "display_name": "Python 3"
    },
    "widgets": {
      "application/vnd.jupyter.widget-state+json": {
        "b38c2131fa4942489e352e4444a556e3": {
          "model_module": "@jupyter-widgets/controls",
          "model_name": "TextModel",
          "model_module_version": "1.5.0",
          "state": {
            "_dom_classes": [],
            "_model_module": "@jupyter-widgets/controls",
            "_model_module_version": "1.5.0",
            "_model_name": "TextModel",
            "_view_count": null,
            "_view_module": "@jupyter-widgets/controls",
            "_view_module_version": "1.5.0",
            "_view_name": "TextView",
            "continuous_update": true,
            "description": "Question:",
            "description_tooltip": null,
            "disabled": false,
            "layout": "IPY_MODEL_09c8ee68139843d2b48ad8a434c5fe92",
            "placeholder": "Ask a question about crime in Cincinnati...",
            "style": "IPY_MODEL_80af0c0f7c97411597b69e2be61187b7",
            "value": "How many offenses reported in clifton neighborhood January 1 2020?"
          }
        },
        "09c8ee68139843d2b48ad8a434c5fe92": {
          "model_module": "@jupyter-widgets/base",
          "model_name": "LayoutModel",
          "model_module_version": "1.2.0",
          "state": {
            "_model_module": "@jupyter-widgets/base",
            "_model_module_version": "1.2.0",
            "_model_name": "LayoutModel",
            "_view_count": null,
            "_view_module": "@jupyter-widgets/base",
            "_view_module_version": "1.2.0",
            "_view_name": "LayoutView",
            "align_content": null,
            "align_items": null,
            "align_self": null,
            "border": null,
            "bottom": null,
            "display": null,
            "flex": null,
            "flex_flow": null,
            "grid_area": null,
            "grid_auto_columns": null,
            "grid_auto_flow": null,
            "grid_auto_rows": null,
            "grid_column": null,
            "grid_gap": null,
            "grid_row": null,
            "grid_template_areas": null,
            "grid_template_columns": null,
            "grid_template_rows": null,
            "height": null,
            "justify_content": null,
            "justify_items": null,
            "left": null,
            "margin": null,
            "max_height": null,
            "max_width": null,
            "min_height": null,
            "min_width": null,
            "object_fit": null,
            "object_position": null,
            "order": null,
            "overflow": null,
            "overflow_x": null,
            "overflow_y": null,
            "padding": null,
            "right": null,
            "top": null,
            "visibility": null,
            "width": "100%"
          }
        },
        "80af0c0f7c97411597b69e2be61187b7": {
          "model_module": "@jupyter-widgets/controls",
          "model_name": "DescriptionStyleModel",
          "model_module_version": "1.5.0",
          "state": {
            "_model_module": "@jupyter-widgets/controls",
            "_model_module_version": "1.5.0",
            "_model_name": "DescriptionStyleModel",
            "_view_count": null,
            "_view_module": "@jupyter-widgets/base",
            "_view_module_version": "1.2.0",
            "_view_name": "StyleView",
            "description_width": ""
          }
        },
        "bdc64b543b054c5ca3edb83f080f54e9": {
          "model_module": "@jupyter-widgets/output",
          "model_name": "OutputModel",
          "model_module_version": "1.0.0",
          "state": {
            "_dom_classes": [],
            "_model_module": "@jupyter-widgets/output",
            "_model_module_version": "1.0.0",
            "_model_name": "OutputModel",
            "_view_count": null,
            "_view_module": "@jupyter-widgets/output",
            "_view_module_version": "1.0.0",
            "_view_name": "OutputView",
            "layout": "IPY_MODEL_ed003e85b91047d7bfb1de3538b2b815",
            "msg_id": "",
            "outputs": [
              {
                "output_type": "stream",
                "name": "stdout",
                "text": [
                  "🏃 View run fearless-sow-11 at: http://3.145.180.106:5000/#/experiments/599682738248006782/runs/bc6db4e724e5460f87cce15b2d51c242\n",
                  "🧪 View experiment at: http://3.145.180.106:5000/#/experiments/599682738248006782\n",
                  "Bot: 33\n"
                ]
              }
            ]
          }
        },
        "ed003e85b91047d7bfb1de3538b2b815": {
          "model_module": "@jupyter-widgets/base",
          "model_name": "LayoutModel",
          "model_module_version": "1.2.0",
          "state": {
            "_model_module": "@jupyter-widgets/base",
            "_model_module_version": "1.2.0",
            "_model_name": "LayoutModel",
            "_view_count": null,
            "_view_module": "@jupyter-widgets/base",
            "_view_module_version": "1.2.0",
            "_view_name": "LayoutView",
            "align_content": null,
            "align_items": null,
            "align_self": null,
            "border": null,
            "bottom": null,
            "display": null,
            "flex": null,
            "flex_flow": null,
            "grid_area": null,
            "grid_auto_columns": null,
            "grid_auto_flow": null,
            "grid_auto_rows": null,
            "grid_column": null,
            "grid_gap": null,
            "grid_row": null,
            "grid_template_areas": null,
            "grid_template_columns": null,
            "grid_template_rows": null,
            "height": null,
            "justify_content": null,
            "justify_items": null,
            "left": null,
            "margin": null,
            "max_height": null,
            "max_width": null,
            "min_height": null,
            "min_width": null,
            "object_fit": null,
            "object_position": null,
            "order": null,
            "overflow": null,
            "overflow_x": null,
            "overflow_y": null,
            "padding": null,
            "right": null,
            "top": null,
            "visibility": null,
            "width": null
          }
        }
      }
    }
  },
  "nbformat": 4,
  "nbformat_minor": 5
}